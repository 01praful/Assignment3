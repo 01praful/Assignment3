{
  "nbformat": 4,
  "nbformat_minor": 0,
  "metadata": {
    "colab": {
      "provenance": []
    },
    "kernelspec": {
      "name": "python3",
      "display_name": "Python 3"
    },
    "language_info": {
      "name": "python"
    }
  },
  "cells": [
    {
      "cell_type": "markdown",
      "source": [
        "#Write a Python function that accepts a string and calculate the number of upper case letters and lower case letters."
      ],
      "metadata": {
        "id": "wP5bYnFw1YIk"
      }
    },
    {
      "cell_type": "code",
      "execution_count": 6,
      "metadata": {
        "colab": {
          "base_uri": "https://localhost:8080/"
        },
        "id": "ZwHlVCFl1M8s",
        "outputId": "71fd7600-113d-4703-b24e-5cbdfcd2cc69"
      },
      "outputs": [
        {
          "output_type": "stream",
          "name": "stdout",
          "text": [
            "Enter the string: PraFulPallaV\n",
            "LowerCase letter in the String 8\n",
            "UpperCase letter in the String 4\n"
          ]
        }
      ],
      "source": [
        "x=input(\"Enter the string: \")\n",
        "def char(x):\n",
        "  u=0\n",
        "  l=0\n",
        "  for i in x:\n",
        "      if i>='a' and i<='z':\n",
        "       l+=1\n",
        "\n",
        "      if i >='A' and i<='Z':\n",
        "       u+=1\n",
        "\n",
        "  print(\"LowerCase letter in the String\",l)\n",
        "  print(\"UpperCase letter in the String\",u)\n",
        "char(x)"
      ]
    },
    {
      "cell_type": "code",
      "source": [],
      "metadata": {
        "id": "i0gfTr5u25xG"
      },
      "execution_count": null,
      "outputs": []
    }
  ]
}