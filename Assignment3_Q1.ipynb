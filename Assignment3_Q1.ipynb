{
  "nbformat": 4,
  "nbformat_minor": 0,
  "metadata": {
    "colab": {
      "provenance": []
    },
    "kernelspec": {
      "name": "python3",
      "display_name": "Python 3"
    },
    "language_info": {
      "name": "python"
    }
  },
  "cells": [
    {
      "cell_type": "markdown",
      "source": [
        "#Write a Python function to sum all the numbers in a list.\n",
        "\n"
      ],
      "metadata": {
        "id": "LGR25j4VvOnF"
      }
    },
    {
      "cell_type": "code",
      "source": [
        "def sum_of_list(l):\n",
        "  total = 0\n",
        "  for i in l:\n",
        "    total = total + i\n",
        "  return total\n",
        "\n",
        "my_list = [6,3,1,5,8]\n",
        "print (sum_of_list(my_list))"
      ],
      "metadata": {
        "colab": {
          "base_uri": "https://localhost:8080/"
        },
        "id": "lo3QGYdHtyRv",
        "outputId": "2a7faf41-f55a-4ade-ff15-b7b7499271cf"
      },
      "execution_count": 9,
      "outputs": [
        {
          "output_type": "stream",
          "name": "stdout",
          "text": [
            "23\n"
          ]
        }
      ]
    }
  ]
}