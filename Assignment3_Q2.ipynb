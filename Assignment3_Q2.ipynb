{
  "nbformat": 4,
  "nbformat_minor": 0,
  "metadata": {
    "colab": {
      "provenance": []
    },
    "kernelspec": {
      "name": "python3",
      "display_name": "Python 3"
    },
    "language_info": {
      "name": "python"
    }
  },
  "cells": [
    {
      "cell_type": "markdown",
      "source": [
        "# Write a Python program to reverse a string."
      ],
      "metadata": {
        "id": "lFAZOuHczF1i"
      }
    },
    {
      "cell_type": "code",
      "execution_count": 11,
      "metadata": {
        "colab": {
          "base_uri": "https://localhost:8080/"
        },
        "id": "fn860Rlyy-_N",
        "outputId": "0695a3a8-54a3-4142-8771-945e27e475ab"
      },
      "outputs": [
        {
          "output_type": "stream",
          "name": "stdout",
          "text": [
            "praful_1127\n"
          ]
        }
      ],
      "source": [
        "def reverse(str):\n",
        "    str = list(str)\n",
        "    str.reverse()\n",
        "    return \"\".join(str)\n",
        "\n",
        "a = \"7211_lufarp\"\n",
        "print(reverse(a))\n",
        " "
      ]
    }
  ]
}